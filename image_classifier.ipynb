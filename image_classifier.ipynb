{
 "cells": [
  {
   "cell_type": "code",
   "execution_count": 7,
   "metadata": {},
   "outputs": [],
   "source": [
    "import os\n",
    "import torch\n",
    "import torchvision\n",
    "import torchvision.transforms as transforms\n",
    "from torchvision import models\n",
    "import torch.nn as nn\n",
    "import torch.nn.functional as F\n",
    "from torch.autograd import Variable\n",
    "from torch.optim import Adam\n",
    "\n",
    "import matplotlib.pyplot as plt\n",
    "\n",
    "import numpy as np\n",
    "from PIL import Image"
   ]
  },
  {
   "cell_type": "code",
   "execution_count": 8,
   "metadata": {},
   "outputs": [
    {
     "data": {
      "text/plain": [
       "'c:\\\\Users\\\\andyk\\\\OneDrive\\\\Documents\\\\GitHub\\\\yoga-pose-classification'"
      ]
     },
     "execution_count": 8,
     "metadata": {},
     "output_type": "execute_result"
    }
   ],
   "source": [
    "os.getcwd()"
   ]
  },
  {
   "cell_type": "code",
   "execution_count": 9,
   "metadata": {},
   "outputs": [],
   "source": [
    "poses = ['downdog', \"goddess\", \"mountain\", \"tree\", \"warrior1\", \"warrior2\"]"
   ]
  },
  {
   "cell_type": "code",
   "execution_count": 10,
   "metadata": {},
   "outputs": [],
   "source": [
    "batch_size = 16\n",
    "image_size = 512"
   ]
  },
  {
   "cell_type": "code",
   "execution_count": 11,
   "metadata": {},
   "outputs": [],
   "source": [
    "def removeCorruptedImages(path):\n",
    "    for filename in os.listdir(path):\n",
    "        try:\n",
    "            print(filename)\n",
    "            img = Image.open(os.path.join(path,filename))\n",
    "            img.verify() \n",
    "        except (IOError, SyntaxError) as e:\n",
    "            print('Bad file:', filename)\n",
    "            os.remove(os.path.join(path,filename))\n",
    "\n",
    "def convert_to_jpg(path):\n",
    "    for file in os.listdir(path):\n",
    "        #print(path, file)\n",
    "        img = Image.open(os.path.join(path, file))\n",
    "        img = img.convert('RGB')\n",
    "        file_name, file_ext = os.path.splitext(file)\n",
    "        #print(file_name, file_ext)\n",
    "        if file_ext != '.jpg':\n",
    "            print(file_name)\n",
    "            print(file_ext)\n",
    "            img.save(os.path.join(path, f'{file_name}.jpg'))\n",
    "            #os.remove(os.path.join(path, file_name))\n",
    "\n",
    "        \n",
    "    for file in os.listdir(path):\n",
    "        if not file.endswith(\".jpg\"):\n",
    "            os.remove(os.path.join(path, file))\n",
    "\n",
    "base_path = \"./dataset/poses/train/\"\n",
    "\n",
    "# for pose in poses:\n",
    "#     path = os.path.join(base_path, pose)\n",
    "#     removeCorruptedImages(os.path.join(base_path, pose))\n",
    "#     convert_to_jpg(path)\n"
   ]
  },
  {
   "cell_type": "code",
   "execution_count": 12,
   "metadata": {},
   "outputs": [],
   "source": [
    "\n",
    "\n",
    "train_transform = transforms.Compose(\n",
    "[\n",
    "    transforms.RandomResizedCrop(size=image_size, scale=(0.8, 1.0)),\n",
    "    transforms.RandomRotation(degrees=15),\n",
    "    transforms.RandomHorizontalFlip(),\n",
    "    transforms.Resize((image_size, image_size)),\n",
    "    transforms.ToTensor(),\n",
    "    transforms.Normalize([0.485, 0.456, 0.406],\n",
    "                             [0.229, 0.224, 0.225])\n",
    "    ]\n",
    "    )\n",
    "\n",
    "test_transform = transforms.Compose(\n",
    "[   transforms.Resize((image_size, image_size)),\n",
    "    transforms.ToTensor(),\n",
    "    transforms.Normalize([0.485, 0.456, 0.406],\n",
    "                             [0.229, 0.224, 0.225])\n",
    "    ]\n",
    "    )\n",
    "\n",
    "train = torchvision.datasets.ImageFolder(root=\"dataset/poses/train/\",\n",
    "                                    transform=train_transform)\n",
    "train_loader = torch.utils.data.DataLoader(train,\n",
    "                                        batch_size=batch_size, shuffle=True,\n",
    "                                        num_workers=4)\n",
    "\n",
    "\n",
    "\n",
    "test = torchvision.datasets.ImageFolder(root=\"dataset/poses/test/\",\n",
    "                                    transform=test_transform)\n",
    "test_loader = torch.utils.data.DataLoader(test,\n",
    "                                        batch_size=batch_size, shuffle=True,\n",
    "                                        num_workers=4)\n",
    "\n"
   ]
  },
  {
   "cell_type": "code",
   "execution_count": 13,
   "metadata": {},
   "outputs": [],
   "source": [
    "train_data_size = len(train)\n",
    "#valid_data_size = len(test)\n",
    "test_data_size = len(test)"
   ]
  },
  {
   "cell_type": "markdown",
   "metadata": {},
   "source": [
    "# CNN"
   ]
  },
  {
   "cell_type": "code",
   "execution_count": null,
   "metadata": {},
   "outputs": [],
   "source": [
    "print_outputs = False\n",
    "\n",
    "class Network(nn.Module):\n",
    "    def __init__(self):\n",
    "        super(Network, self).__init__()\n",
    "        \n",
    "        self.conv1 = nn.Conv2d(in_channels=3, out_channels=12, kernel_size=7, stride=4, padding=1)\n",
    "        self.bn1 = nn.BatchNorm2d(12)\n",
    "        self.conv2 = nn.Conv2d(in_channels=12, out_channels=12, kernel_size=7, stride=2, padding=1)\n",
    "        self.bn2 = nn.BatchNorm2d(12)\n",
    "        self.pool = nn.MaxPool2d(2,2)\n",
    "        self.conv4 = nn.Conv2d(in_channels=12, out_channels=12, kernel_size=7, stride=2, padding=1)\n",
    "        self.bn4 = nn.BatchNorm2d(12)\n",
    "        self.conv5 = nn.Conv2d(in_channels=12, out_channels=12, kernel_size=5, stride=2, padding=1)\n",
    "        self.bn5 = nn.BatchNorm2d(12)\n",
    "        self.conv6 = nn.Conv2d(in_channels=12, out_channels=12, kernel_size=5, stride=1, padding=1)\n",
    "        self.bn6 = nn.BatchNorm2d(12)\n",
    "        self.fc1 = nn.Linear(12*len(poses)*len(poses), len(poses))\n",
    "\n",
    "    def forward(self, input):\n",
    "        if print_outputs:\n",
    "            print('FORWARD')\n",
    "            print(input.shape)\n",
    "        output = F.relu(self.bn1(self.conv1(input)))  \n",
    "        if print_outputs:\n",
    "            print(output.shape)    \n",
    "        output = F.relu(self.bn2(self.conv2(output)))  \n",
    "        if print_outputs:\n",
    "            print(output.shape)     \n",
    "        output = self.pool(output)     \n",
    "        if print_outputs:\n",
    "            print(output.shape)                      \n",
    "        output = F.relu(self.bn4(self.conv4(output)))     \n",
    "        if print_outputs:\n",
    "            print(output.shape)   \n",
    "        output = F.relu(self.bn5(self.conv5(output)))\n",
    "        if print_outputs:\n",
    "            print(output.shape)   \n",
    "        output = output.view(-1, 12*len(poses)*len(poses))\n",
    "        if print_outputs:\n",
    "            print(output.shape)   \n",
    "        output = self.fc1(output)\n",
    "        if print_outputs:\n",
    "            print(output.shape)   \n",
    "\n",
    "        return output\n",
    "\n",
    "# Instantiate a neural network model \n",
    "model = Network()"
   ]
  },
  {
   "cell_type": "code",
   "execution_count": null,
   "metadata": {},
   "outputs": [],
   "source": [
    "\n",
    " \n",
    "# Define the loss function with Classification Cross-Entropy loss and an optimizer with Adam optimizer\n",
    "loss_fn = nn.CrossEntropyLoss()\n",
    "optimizer = Adam(model.parameters(), lr=0.001, weight_decay=0.0001)\n",
    "\n",
    "# Function to save the model\n",
    "def saveModel():\n",
    "    path = \"./myFirstModel.pth\"\n",
    "    torch.save(model.state_dict(), path)\n",
    "\n",
    "# Function to test the model with the test dataset and print the accuracy for the test images\n",
    "def testAccuracy():\n",
    "    \n",
    "    model.eval()\n",
    "    accuracy = 0.0\n",
    "    total = 0.0\n",
    "    \n",
    "    with torch.no_grad():\n",
    "        for data in test_loader:\n",
    "            images, labels = data\n",
    "            # run the model on the test set to predict labels\n",
    "            outputs = model(images)\n",
    "            # the label with the highest energy will be our prediction\n",
    "            _, predicted = torch.max(outputs.data, 1)\n",
    "            total += labels.size(0)\n",
    "            accuracy += (predicted == labels).sum().item()\n",
    "    \n",
    "    # compute the accuracy over all test images\n",
    "    accuracy = (100 * accuracy / total)\n",
    "    return(accuracy)\n",
    "\n",
    "\n",
    "# Training function. We simply have to loop over our data iterator and feed the inputs to the network and optimize.\n",
    "def train(num_epochs):\n",
    "    \n",
    "    best_accuracy = 0.0\n",
    "\n",
    "    # Define your execution device\n",
    "    device = torch.device(\"cuda:0\" if torch.cuda.is_available() else \"cpu\")\n",
    "    print(\"The model will be running on\", device, \"device\")\n",
    "    # Convert model parameters and buffers to CPU or Cuda\n",
    "    model.to(device)\n",
    "\n",
    "    for epoch in range(num_epochs):  # loop over the dataset multiple times\n",
    "        running_loss = 0.0\n",
    "        running_acc = 0.0\n",
    "\n",
    "        for i, (images, labels) in enumerate(train_loader, 0):\n",
    "            \n",
    "            # get the inputs\n",
    "            images = Variable(images.to(device))\n",
    "            labels = Variable(labels.to(device))\n",
    "\n",
    "            # zero the parameter gradients\n",
    "            optimizer.zero_grad()\n",
    "            # predict classes using images from the training set\n",
    "            outputs = model(images)\n",
    "            # print(\"outputs shape\")\n",
    "            # print(outputs.shape)\n",
    "            # compute the loss based on model output and real labels\n",
    "            loss = loss_fn(outputs, labels)\n",
    "            # backpropagate the loss\n",
    "            loss.backward()\n",
    "            # adjust parameters based on the calculated gradients\n",
    "            optimizer.step()\n",
    "\n",
    "            # Let's print statistics for every 1,000 images\n",
    "            running_loss += loss.item()     # extract the loss value\n",
    "            if i%100 == 0:\n",
    "                # print every 1000 (twice per epoch) \n",
    "                print('[%d, %5d] loss: %.3f' %\n",
    "                      (epoch + 1, i + 1, running_loss / 1000))\n",
    "                # zero the loss\n",
    "                running_loss = 0.0\n",
    "\n",
    "        # Compute and print the average accuracy fo this epoch when tested over all 10000 test images\n",
    "        accuracy = testAccuracy()\n",
    "        print('For epoch', epoch+1,'the test accuracy over the whole test set is %d %%' % (accuracy))\n",
    "        \n",
    "        # we want to save the model if the accuracy is the best\n",
    "        if accuracy > best_accuracy:\n",
    "            saveModel()\n",
    "            best_accuracy = accuracy"
   ]
  },
  {
   "cell_type": "code",
   "execution_count": null,
   "metadata": {},
   "outputs": [],
   "source": [
    "import matplotlib.pyplot as plt\n",
    "import numpy as np\n",
    "\n",
    "# Function to show the images\n",
    "def imageshow(img):\n",
    "    img = img / 2 + 0.5     # unnormalize\n",
    "    npimg = img.numpy()\n",
    "    plt.imshow(np.transpose(npimg, (1, 2, 0)))\n",
    "    plt.show()\n",
    "\n",
    "\n",
    "# Function to test the model with a batch of images and show the labels predictions\n",
    "def testBatch():\n",
    "    # get batch of images from the test DataLoader  \n",
    "    images, labels = next(iter(test_loader))\n",
    "\n",
    "    # show all images as one image grid\n",
    "    imageshow(torchvision.utils.make_grid(images))\n",
    "   \n",
    "    # Show the real labels on the screen \n",
    "    print('Real labels: ', ' '.join('%5s' % poses[labels[j]] \n",
    "                               for j in range(batch_size)))\n",
    "  \n",
    "    # Let's see what if the model identifiers the  labels of those example\n",
    "    outputs = model(images)\n",
    "    \n",
    "    # We got the probability for every 10 labels. The highest (max) probability should be correct label\n",
    "    _, predicted = torch.max(outputs, 1)\n",
    "    \n",
    "    # Let's show the predicted labels on the screen to compare with the real ones\n",
    "    print('Predicted: ', ' '.join('%5s' % poses[predicted[j]] \n",
    "                              for j in range(batch_size)))"
   ]
  },
  {
   "cell_type": "code",
   "execution_count": null,
   "metadata": {},
   "outputs": [],
   "source": [
    "# Function to test what classes performed well\n",
    "def testClasses():\n",
    "    class_correct = list(0. for i in range(len(poses)))\n",
    "    class_total = list(0. for i in range(len(poses)))\n",
    "    with torch.no_grad():\n",
    "        for data in test_loader:\n",
    "            images, labels = data\n",
    "            outputs = model(images)\n",
    "            _, predicted = torch.max(outputs, 1)\n",
    "            c = (predicted == labels).squeeze()\n",
    "            for i in range(batch_size):\n",
    "                label = labels[i]\n",
    "                class_correct[label] += c[i].item()\n",
    "                class_total[label] += 1\n",
    "\n",
    "    for i in range(len(poses)):\n",
    "        print('Accuracy of %5s : %2d %%' % (\n",
    "            poses[i], 100 * class_correct[i] / class_total[i]))"
   ]
  },
  {
   "cell_type": "code",
   "execution_count": null,
   "metadata": {},
   "outputs": [],
   "source": [
    "testBatch()"
   ]
  },
  {
   "cell_type": "code",
   "execution_count": null,
   "metadata": {},
   "outputs": [],
   "source": [
    "testClasses()"
   ]
  },
  {
   "cell_type": "code",
   "execution_count": null,
   "metadata": {},
   "outputs": [],
   "source": [
    "# Let's build our model\n",
    "train(5)\n",
    "print('Finished Training')\n",
    "\n",
    "# # Test which classes performed well\n",
    "# testModelAccuracy()\n",
    "\n",
    "# Let's load the model we just created and test the accuracy per label\n",
    "model = Network()\n",
    "path = \"myFirstModel.pth\"\n",
    "model.load_state_dict(torch.load(path))\n",
    "\n",
    "# Test with batch of images\n",
    "testBatch()"
   ]
  },
  {
   "cell_type": "markdown",
   "metadata": {},
   "source": [
    "# Transfer Learning"
   ]
  },
  {
   "cell_type": "code",
   "execution_count": 14,
   "metadata": {},
   "outputs": [
    {
     "name": "stderr",
     "output_type": "stream",
     "text": [
      "c:\\Users\\andyk\\OneDrive\\Documents\\GitHub\\yoga-pose-classification\\venv\\lib\\site-packages\\torchvision\\models\\_utils.py:208: UserWarning: The parameter 'pretrained' is deprecated since 0.13 and may be removed in the future, please use 'weights' instead.\n",
      "  warnings.warn(\n",
      "c:\\Users\\andyk\\OneDrive\\Documents\\GitHub\\yoga-pose-classification\\venv\\lib\\site-packages\\torchvision\\models\\_utils.py:223: UserWarning: Arguments other than a weight enum or `None` for 'weights' are deprecated since 0.13 and may be removed in the future. The current behavior is equivalent to passing `weights=ResNet18_Weights.IMAGENET1K_V1`. You can also use `weights=ResNet18_Weights.DEFAULT` to get the most up-to-date weights.\n",
      "  warnings.warn(msg)\n"
     ]
    }
   ],
   "source": [
    "resnet18 = models.resnet18(pretrained=True)"
   ]
  },
  {
   "cell_type": "code",
   "execution_count": 15,
   "metadata": {},
   "outputs": [],
   "source": [
    "# Freeze model parameters\n",
    "for param in resnet18.parameters():\n",
    "    param.requires_grad = False"
   ]
  },
  {
   "cell_type": "code",
   "execution_count": 16,
   "metadata": {},
   "outputs": [],
   "source": [
    "# Change the final layer of ResNet50 Model for Transfer Learning\n",
    "fc_inputs = resnet18.fc.in_features\n",
    "resnet18.fc = nn.Sequential(\n",
    "    nn.Linear(fc_inputs, 256),\n",
    "    nn.ReLU(),\n",
    "    nn.Dropout(0.4),\n",
    "    nn.Linear(256, len(poses)), \n",
    "    nn.LogSoftmax(dim=1) # For using NLLLoss()\n",
    ")"
   ]
  },
  {
   "cell_type": "code",
   "execution_count": 17,
   "metadata": {},
   "outputs": [],
   "source": [
    "# Define Optimizer and Loss Function\n",
    "loss_func = nn.NLLLoss()\n",
    "optimizer = Adam(resnet18.parameters())"
   ]
  },
  {
   "cell_type": "code",
   "execution_count": 18,
   "metadata": {},
   "outputs": [],
   "source": [
    "device = torch.device(\"cuda:0\" if torch.cuda.is_available() else \"cpu\")\n",
    "resnet18 = resnet18.to(device)\n",
    "#device = \"cuda:0\""
   ]
  },
  {
   "cell_type": "code",
   "execution_count": 19,
   "metadata": {},
   "outputs": [
    {
     "data": {
      "text/plain": [
       "False"
      ]
     },
     "execution_count": 19,
     "metadata": {},
     "output_type": "execute_result"
    }
   ],
   "source": [
    "torch.cuda.is_available()"
   ]
  },
  {
   "cell_type": "code",
   "execution_count": null,
   "metadata": {},
   "outputs": [],
   "source": []
  },
  {
   "cell_type": "code",
   "execution_count": 20,
   "metadata": {},
   "outputs": [
    {
     "name": "stdout",
     "output_type": "stream",
     "text": [
      "Epoch: 1/10\n",
      "Batch number: 000, Training: Loss: 1.8154, Accuracy: 0.0625\n",
      "Batch number: 001, Training: Loss: 2.1876, Accuracy: 0.0625\n",
      "Batch number: 002, Training: Loss: 1.8920, Accuracy: 0.3125\n",
      "Batch number: 003, Training: Loss: 1.7618, Accuracy: 0.1875\n",
      "Batch number: 004, Training: Loss: 2.0097, Accuracy: 0.2500\n",
      "Batch number: 005, Training: Loss: 1.9214, Accuracy: 0.0625\n",
      "Batch number: 006, Training: Loss: 2.0333, Accuracy: 0.0625\n",
      "Batch number: 007, Training: Loss: 1.8365, Accuracy: 0.0625\n",
      "Batch number: 008, Training: Loss: 1.8101, Accuracy: 0.2500\n",
      "Batch number: 009, Training: Loss: 1.7971, Accuracy: 0.2500\n",
      "Batch number: 010, Training: Loss: 1.8400, Accuracy: 0.1250\n",
      "Batch number: 011, Training: Loss: 1.9195, Accuracy: 0.0625\n",
      "Batch number: 012, Training: Loss: 1.7968, Accuracy: 0.1250\n",
      "Batch number: 013, Training: Loss: 1.8710, Accuracy: 0.1250\n",
      "Batch number: 014, Training: Loss: 1.6736, Accuracy: 0.3750\n",
      "Batch number: 015, Training: Loss: 1.6969, Accuracy: 0.3125\n",
      "Batch number: 016, Training: Loss: 1.7784, Accuracy: 0.3125\n",
      "Batch number: 017, Training: Loss: 1.6770, Accuracy: 0.4375\n",
      "Batch number: 018, Training: Loss: 1.9168, Accuracy: 0.1875\n",
      "Batch number: 019, Training: Loss: 1.7490, Accuracy: 0.1875\n",
      "Batch number: 020, Training: Loss: 1.6051, Accuracy: 0.3125\n",
      "Batch number: 021, Training: Loss: 1.8363, Accuracy: 0.2500\n",
      "Batch number: 022, Training: Loss: 1.8553, Accuracy: 0.1875\n",
      "Batch number: 023, Training: Loss: 1.6556, Accuracy: 0.3750\n",
      "Batch number: 024, Training: Loss: 1.8055, Accuracy: 0.1250\n",
      "Batch number: 025, Training: Loss: 1.7417, Accuracy: 0.3125\n",
      "Batch number: 026, Training: Loss: 1.7077, Accuracy: 0.2500\n",
      "Batch number: 027, Training: Loss: 1.6464, Accuracy: 0.1250\n",
      "Batch number: 028, Training: Loss: 1.5722, Accuracy: 0.3750\n",
      "Batch number: 029, Training: Loss: 1.7821, Accuracy: 0.2500\n",
      "Batch number: 030, Training: Loss: 1.8033, Accuracy: 0.3125\n",
      "Batch number: 031, Training: Loss: 1.7908, Accuracy: 0.1250\n",
      "Batch number: 032, Training: Loss: 1.8210, Accuracy: 0.2500\n",
      "Batch number: 033, Training: Loss: 1.6834, Accuracy: 0.3125\n",
      "Batch number: 034, Training: Loss: 1.6992, Accuracy: 0.3750\n",
      "Batch number: 035, Training: Loss: 1.7222, Accuracy: 0.3750\n",
      "Batch number: 036, Training: Loss: 1.7844, Accuracy: 0.1875\n",
      "Batch number: 037, Training: Loss: 1.8397, Accuracy: 0.2500\n",
      "Batch number: 038, Training: Loss: 1.7530, Accuracy: 0.1875\n",
      "Batch number: 039, Training: Loss: 1.8582, Accuracy: 0.0625\n",
      "Batch number: 040, Training: Loss: 1.7739, Accuracy: 0.1875\n",
      "Batch number: 041, Training: Loss: 1.7066, Accuracy: 0.3125\n",
      "Batch number: 042, Training: Loss: 1.7394, Accuracy: 0.1250\n",
      "Batch number: 043, Training: Loss: 1.7921, Accuracy: 0.2500\n",
      "Batch number: 044, Training: Loss: 1.5571, Accuracy: 0.2500\n",
      "Batch number: 045, Training: Loss: 1.8327, Accuracy: 0.1875\n",
      "Batch number: 046, Training: Loss: 1.9129, Accuracy: 0.0625\n",
      "Batch number: 047, Training: Loss: 1.7303, Accuracy: 0.1875\n",
      "Batch number: 048, Training: Loss: 1.6968, Accuracy: 0.3125\n",
      "Batch number: 049, Training: Loss: 1.7315, Accuracy: 0.1875\n",
      "Batch number: 050, Training: Loss: 1.7490, Accuracy: 0.1250\n",
      "Batch number: 051, Training: Loss: 1.6870, Accuracy: 0.1875\n",
      "Batch number: 052, Training: Loss: 1.6702, Accuracy: 0.0625\n",
      "Batch number: 053, Training: Loss: 1.6229, Accuracy: 0.3125\n",
      "Batch number: 054, Training: Loss: 1.7684, Accuracy: 0.3125\n",
      "Batch number: 055, Training: Loss: 1.9358, Accuracy: 0.0625\n"
     ]
    }
   ],
   "source": [
    "epochs = 10\n",
    "import time\n",
    "\n",
    "start = time.time()\n",
    "history = []\n",
    "best_loss = 100000.0\n",
    "best_epoch = None\n",
    "\n",
    "for epoch in range(epochs):\n",
    "    epoch_start = time.time()\n",
    "    print(\"Epoch: {}/{}\".format(epoch+1, epochs))\n",
    "    # Set to training mode\n",
    "    resnet18.train()\n",
    "    # Loss and Accuracy within the epoch\n",
    "    train_loss = 0.0\n",
    "    train_acc = 0.0\n",
    "    test_loss = 0.0\n",
    "    test_acc = 0.0\n",
    "    for i, (inputs, labels) in enumerate(train_loader):\n",
    "        inputs = inputs.to(device)\n",
    "        labels = labels.to(device)\n",
    "        # Clean existing gradients\n",
    "        optimizer.zero_grad()\n",
    "        # Forward pass - compute outputs on input data using the model\n",
    "        outputs = resnet18(inputs)\n",
    "        # Compute loss\n",
    "        loss = loss_func(outputs, labels)\n",
    "        # Backpropagate the gradients\n",
    "        loss.backward()\n",
    "        # Update the parameters\n",
    "        optimizer.step()\n",
    "        # Compute the total loss for the batch and add it to train_loss\n",
    "        train_loss += loss.item() * inputs.size(0)\n",
    "        # Compute the accuracy\n",
    "        ret, predictions = torch.max(outputs.data, 1)\n",
    "        correct_counts = predictions.eq(labels.data.view_as(predictions))\n",
    "        # Convert correct_counts to float and then compute the mean\n",
    "        acc = torch.mean(correct_counts.type(torch.FloatTensor))\n",
    "        # Compute total accuracy in the whole batch and add to train_acc\n",
    "        train_acc += acc.item() * inputs.size(0)\n",
    "        print(\"Batch number: {:03d}, Training: Loss: {:.4f}, Accuracy: {:.4f}\".format(i, loss.item(), acc.item()))\n",
    "\n",
    "        # Validation - No gradient tracking needed\n",
    "    if test_loss < best_loss:\n",
    "        best_loss = test_loss\n",
    "        best_epoch = epoch\n",
    "    with torch.no_grad():\n",
    "        # Set to evaluation mode\n",
    "        resnet18.eval()\n",
    "        # Validation loop\n",
    "        for j, (inputs, labels) in enumerate(test_loader):\n",
    "            inputs = inputs.to(device)\n",
    "            labels = labels.to(device)\n",
    "            # Forward pass - compute outputs on input data using the model\n",
    "            outputs = resnet18(inputs)\n",
    "            # Compute loss\n",
    "            loss = loss_func(outputs, labels)\n",
    "            # Compute the total loss for the batch and add it to valid_loss\n",
    "            test_loss += loss.item() * inputs.size(0)\n",
    "            # Calculate validation accuracy\n",
    "            ret, predictions = torch.max(outputs.data, 1)\n",
    "            correct_counts = predictions.eq(labels.data.view_as(predictions))\n",
    "            # Convert correct_counts to float and then compute the mean\n",
    "            acc = torch.mean(correct_counts.type(torch.FloatTensor))\n",
    "            # Compute total accuracy in the whole batch and add to valid_acc\n",
    "            test_acc += acc.item() * inputs.size(0)\n",
    "            print(\"Validation Batch number: {:03d}, Validation: Loss: {:.4f}, Accuracy: {:.4f}\".format(j, loss.item(), acc.item()))\n",
    "    # Find average training loss and training accuracy\n",
    "    avg_train_loss = train_loss/train_data_size \n",
    "    avg_train_acc = train_acc/float(train_data_size)\n",
    "    # Find average training loss and training accuracy\n",
    "    avg_valid_loss = test_loss/test_data_size \n",
    "    avg_valid_acc = test_acc/float(test_data_size)\n",
    "    history.append([avg_train_loss, avg_valid_loss, avg_train_acc, avg_valid_acc])\n",
    "    epoch_end = time.time()\n",
    "    print(\"Epoch : {:03d}, Training: Loss: {:.4f}, Accuracy: {:.4f}%, nttValidation : Loss : {:.4f}, Accuracy: {:.4f}%, Time: {:.4f}s\".format(epoch, avg_train_loss, avg_train_acc*100, avg_valid_loss, avg_valid_acc*100, epoch_end-epoch_start))"
   ]
  },
  {
   "cell_type": "code",
   "execution_count": null,
   "metadata": {},
   "outputs": [],
   "source": [
    "history"
   ]
  },
  {
   "cell_type": "code",
   "execution_count": null,
   "metadata": {},
   "outputs": [],
   "source": [
    "history = np.array(history)\n",
    "plt.plot(history[:,0:2])\n",
    "plt.legend(['Tr Loss', 'Val Loss'])\n",
    "plt.xlabel('Epoch Number')\n",
    "plt.ylabel('Loss')\n",
    "plt.ylim(0,1)\n",
    "#plt.savefig(dataset+'_loss_curve.png')\n",
    "plt.show()"
   ]
  },
  {
   "cell_type": "code",
   "execution_count": null,
   "metadata": {},
   "outputs": [],
   "source": [
    "plt.plot(history[:,2:4])\n",
    "plt.legend(['Tr Accuracy', 'Val Accuracy'])\n",
    "plt.xlabel('Epoch Number')\n",
    "plt.ylabel('Accuracy')\n",
    "plt.ylim(0,1)\n",
    "#plt.savefig(+'_accuracy_curve.png')\n",
    "plt.show()"
   ]
  },
  {
   "cell_type": "code",
   "execution_count": null,
   "metadata": {},
   "outputs": [],
   "source": []
  }
 ],
 "metadata": {
  "kernelspec": {
   "display_name": "Python 3.9.5 ('venv': venv)",
   "language": "python",
   "name": "python3"
  },
  "language_info": {
   "codemirror_mode": {
    "name": "ipython",
    "version": 3
   },
   "file_extension": ".py",
   "mimetype": "text/x-python",
   "name": "python",
   "nbconvert_exporter": "python",
   "pygments_lexer": "ipython3",
   "version": "3.9.5"
  },
  "orig_nbformat": 4,
  "vscode": {
   "interpreter": {
    "hash": "9afe26fdbc1503f8272de669f4735f1a61076a7cd2dc7567362436287fc50dfa"
   }
  }
 },
 "nbformat": 4,
 "nbformat_minor": 2
}
